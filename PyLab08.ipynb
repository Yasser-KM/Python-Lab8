{
  "nbformat": 4,
  "nbformat_minor": 0,
  "metadata": {
    "colab": {
      "provenance": []
    },
    "kernelspec": {
      "name": "python3",
      "display_name": "Python 3"
    },
    "language_info": {
      "name": "python"
    }
  },
  "cells": [
    {
      "cell_type": "code",
      "execution_count": 12,
      "metadata": {
        "colab": {
          "base_uri": "https://localhost:8080/"
        },
        "id": "zIY2EFuxWFNR",
        "outputId": "7c80679b-5cc2-4fed-d9ab-fe322461dba8"
      },
      "outputs": [
        {
          "output_type": "stream",
          "name": "stdout",
          "text": [
            "Inventory:\n",
            "GPU : Price - $ {2399} Quantity -  {3} Total Price :  7197\n",
            "CPU : Price - $ {1254} Quantity -  {2} Total Price :  2508\n",
            "Keyboard : Price - $ {314} Quantity -  {10} Total Price :  3140\n",
            "The Updated Inventory:\n",
            "GPU : Price :  2399 Quantity :  {3} Total Price :  7197\n",
            "CPU : Price :  1254 Quantity :  {3} Total Price :  3762\n",
            "Total Inventory Price: 10959\n"
          ]
        }
      ],
      "source": [
        "class Product:\n",
        "    def __init__(self, name, price, quantity):\n",
        "        self.name, self.price, self.quantity = name, price, quantity\n",
        "    def updateQuantity(self, newQuantity):\n",
        "        self.quantity = max(newQuantity, 0)\n",
        "    def calculateTotalPrice(self):\n",
        "        return self.price * self.quantity\n",
        "class Inventory:\n",
        "    def __init__(self):\n",
        "        self.products = {}\n",
        "    def addProduct(self, product):\n",
        "        self.products[product.name] = product\n",
        "    def updateProduct(self, name, newQuantity):\n",
        "        self.products[name].updateQuantity(newQuantity)\n",
        "    def removeProduct(self, name):\n",
        "        del self.products[name]\n",
        "    def calculateTotalPrice(self):\n",
        "        return sum(product.calculateTotalPrice() for product in self.products.values())\n",
        "product1 = Product(\"GPU\", 2399, 3)\n",
        "product2 = Product(\"CPU\", 1254, 2)\n",
        "product3 = Product(\"Keyboard\", 314, 10)\n",
        "inventory = Inventory()\n",
        "inventory.addProduct(product1)\n",
        "inventory.addProduct(product2)\n",
        "inventory.addProduct(product3)\n",
        "print(\"Inventory:\")\n",
        "for product in inventory.products.values():\n",
        "    print(product.name,\": Price - $\",{product.price},\"Quantity - \" ,{product.quantity}, \"Total Price : \" , product.calculateTotalPrice())\n",
        "inventory.updateProduct(\"CPU\", 3)\n",
        "inventory.removeProduct(\"Keyboard\")\n",
        "print(\"The Updated Inventory:\")\n",
        "for product in inventory.products.values():\n",
        "    print(product.name,\": Price : \",product.price ,\"Quantity : \" ,{product.quantity}, \"Total Price : \",product.calculateTotalPrice())\n",
        "totalInventoryPrice = inventory.calculateTotalPrice()\n",
        "print(\"Total Inventory Price:\",totalInventoryPrice)"
      ]
    }
  ]
}